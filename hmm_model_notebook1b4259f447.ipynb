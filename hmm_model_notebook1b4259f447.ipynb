{
  "metadata": {
    "kernelspec": {
      "language": "python",
      "display_name": "Python 3",
      "name": "python3"
    },
    "language_info": {
      "name": "python",
      "version": "3.10.14",
      "mimetype": "text/x-python",
      "codemirror_mode": {
        "name": "ipython",
        "version": 3
      },
      "pygments_lexer": "ipython3",
      "nbconvert_exporter": "python",
      "file_extension": ".py"
    },
    "kaggle": {
      "accelerator": "none",
      "dataSources": [
        {
          "sourceId": 5208076,
          "sourceType": "datasetVersion",
          "datasetId": 3029199
        }
      ],
      "dockerImageVersionId": 30786,
      "isInternetEnabled": true,
      "language": "python",
      "sourceType": "notebook",
      "isGpuEnabled": false
    },
    "colab": {
      "provenance": [],
      "include_colab_link": true
    }
  },
  "nbformat_minor": 0,
  "nbformat": 4,
  "cells": [
    {
      "cell_type": "markdown",
      "metadata": {
        "id": "view-in-github",
        "colab_type": "text"
      },
      "source": [
        "<a href=\"https://colab.research.google.com/github/23117129/PYTORCH/blob/main/hmm_model_notebook1b4259f447.ipynb\" target=\"_parent\"><img src=\"https://colab.research.google.com/assets/colab-badge.svg\" alt=\"Open In Colab\"/></a>"
      ]
    },
    {
      "cell_type": "code",
      "source": [
        "\n",
        "\n",
        "import numpy as np # linear algebra\n",
        "import pandas as pd # data processing, CSV file I/O (e.g. pd.read_csv)\n",
        "\n",
        "# Input data files are available in the read-only \"../input/\" directory\n",
        "# For example, running this (by clicking run or pressing Shift+Enter) will list all files under the input directory\n",
        "\n",
        "import os\n",
        "for dirname, _, filenames in os.walk('/kaggle/input'):\n",
        "    for filename in filenames:\n",
        "        print(os.path.join(dirname, filename))\n",
        "\n",
        "# You can write up to 20GB to the current directory (/kaggle/working/) that gets preserved as output when you create a version using \"Save & Run All\"\n",
        "# You can also write temporary files to /kaggle/temp/, but they won't be saved outside of the current session"
      ],
      "metadata": {
        "_uuid": "8f2839f25d086af736a60e9eeb907d3b93b6e0e5",
        "_cell_guid": "b1076dfc-b9ad-4769-8c92-a6c4dae69d19",
        "execution": {
          "iopub.status.busy": "2024-10-10T14:27:06.275354Z",
          "iopub.execute_input": "2024-10-10T14:27:06.275943Z",
          "iopub.status.idle": "2024-10-10T14:27:06.289322Z",
          "shell.execute_reply.started": "2024-10-10T14:27:06.275888Z",
          "shell.execute_reply": "2024-10-10T14:27:06.28803Z"
        },
        "trusted": true,
        "id": "bFxjamWr2H2V",
        "outputId": "588a2f1c-dcc8-41cc-8bc3-657a10d9e5af"
      },
      "execution_count": null,
      "outputs": [
        {
          "name": "stdout",
          "text": "/kaggle/input/renewable-energy-and-weather-conditions/solar_weather.csv\n",
          "output_type": "stream"
        }
      ]
    },
    {
      "cell_type": "code",
      "source": [
        "df = pd.read_csv('/kaggle/input/renewable-energy-and-weather-conditions/solar_weather.csv')\n",
        "df.head()"
      ],
      "metadata": {
        "execution": {
          "iopub.status.busy": "2024-10-10T14:27:06.292006Z",
          "iopub.execute_input": "2024-10-10T14:27:06.292528Z",
          "iopub.status.idle": "2024-10-10T14:27:06.772869Z",
          "shell.execute_reply.started": "2024-10-10T14:27:06.292459Z",
          "shell.execute_reply": "2024-10-10T14:27:06.771619Z"
        },
        "trusted": true,
        "id": "7jKN12Yl2H2W",
        "outputId": "d7e01733-69f9-4c4b-f9ed-352b4a83db43"
      },
      "execution_count": null,
      "outputs": [
        {
          "execution_count": 24,
          "output_type": "execute_result",
          "data": {
            "text/plain": "                  Time  Energy delta[Wh]  GHI  temp  pressure  humidity  \\\n0  2017-01-01 00:00:00                 0  0.0   1.6      1021       100   \n1  2017-01-01 00:15:00                 0  0.0   1.6      1021       100   \n2  2017-01-01 00:30:00                 0  0.0   1.6      1021       100   \n3  2017-01-01 00:45:00                 0  0.0   1.6      1021       100   \n4  2017-01-01 01:00:00                 0  0.0   1.7      1020       100   \n\n   wind_speed  rain_1h  snow_1h  clouds_all  isSun  sunlightTime  dayLength  \\\n0         4.9      0.0      0.0         100      0             0        450   \n1         4.9      0.0      0.0         100      0             0        450   \n2         4.9      0.0      0.0         100      0             0        450   \n3         4.9      0.0      0.0         100      0             0        450   \n4         5.2      0.0      0.0         100      0             0        450   \n\n   SunlightTime/daylength  weather_type  hour  month  \n0                     0.0             4     0      1  \n1                     0.0             4     0      1  \n2                     0.0             4     0      1  \n3                     0.0             4     0      1  \n4                     0.0             4     1      1  ",
            "text/html": "<div>\n<style scoped>\n    .dataframe tbody tr th:only-of-type {\n        vertical-align: middle;\n    }\n\n    .dataframe tbody tr th {\n        vertical-align: top;\n    }\n\n    .dataframe thead th {\n        text-align: right;\n    }\n</style>\n<table border=\"1\" class=\"dataframe\">\n  <thead>\n    <tr style=\"text-align: right;\">\n      <th></th>\n      <th>Time</th>\n      <th>Energy delta[Wh]</th>\n      <th>GHI</th>\n      <th>temp</th>\n      <th>pressure</th>\n      <th>humidity</th>\n      <th>wind_speed</th>\n      <th>rain_1h</th>\n      <th>snow_1h</th>\n      <th>clouds_all</th>\n      <th>isSun</th>\n      <th>sunlightTime</th>\n      <th>dayLength</th>\n      <th>SunlightTime/daylength</th>\n      <th>weather_type</th>\n      <th>hour</th>\n      <th>month</th>\n    </tr>\n  </thead>\n  <tbody>\n    <tr>\n      <th>0</th>\n      <td>2017-01-01 00:00:00</td>\n      <td>0</td>\n      <td>0.0</td>\n      <td>1.6</td>\n      <td>1021</td>\n      <td>100</td>\n      <td>4.9</td>\n      <td>0.0</td>\n      <td>0.0</td>\n      <td>100</td>\n      <td>0</td>\n      <td>0</td>\n      <td>450</td>\n      <td>0.0</td>\n      <td>4</td>\n      <td>0</td>\n      <td>1</td>\n    </tr>\n    <tr>\n      <th>1</th>\n      <td>2017-01-01 00:15:00</td>\n      <td>0</td>\n      <td>0.0</td>\n      <td>1.6</td>\n      <td>1021</td>\n      <td>100</td>\n      <td>4.9</td>\n      <td>0.0</td>\n      <td>0.0</td>\n      <td>100</td>\n      <td>0</td>\n      <td>0</td>\n      <td>450</td>\n      <td>0.0</td>\n      <td>4</td>\n      <td>0</td>\n      <td>1</td>\n    </tr>\n    <tr>\n      <th>2</th>\n      <td>2017-01-01 00:30:00</td>\n      <td>0</td>\n      <td>0.0</td>\n      <td>1.6</td>\n      <td>1021</td>\n      <td>100</td>\n      <td>4.9</td>\n      <td>0.0</td>\n      <td>0.0</td>\n      <td>100</td>\n      <td>0</td>\n      <td>0</td>\n      <td>450</td>\n      <td>0.0</td>\n      <td>4</td>\n      <td>0</td>\n      <td>1</td>\n    </tr>\n    <tr>\n      <th>3</th>\n      <td>2017-01-01 00:45:00</td>\n      <td>0</td>\n      <td>0.0</td>\n      <td>1.6</td>\n      <td>1021</td>\n      <td>100</td>\n      <td>4.9</td>\n      <td>0.0</td>\n      <td>0.0</td>\n      <td>100</td>\n      <td>0</td>\n      <td>0</td>\n      <td>450</td>\n      <td>0.0</td>\n      <td>4</td>\n      <td>0</td>\n      <td>1</td>\n    </tr>\n    <tr>\n      <th>4</th>\n      <td>2017-01-01 01:00:00</td>\n      <td>0</td>\n      <td>0.0</td>\n      <td>1.7</td>\n      <td>1020</td>\n      <td>100</td>\n      <td>5.2</td>\n      <td>0.0</td>\n      <td>0.0</td>\n      <td>100</td>\n      <td>0</td>\n      <td>0</td>\n      <td>450</td>\n      <td>0.0</td>\n      <td>4</td>\n      <td>1</td>\n      <td>1</td>\n    </tr>\n  </tbody>\n</table>\n</div>"
          },
          "metadata": {}
        }
      ]
    },
    {
      "cell_type": "code",
      "source": [
        "weather_types= df['weather_type'].values\n",
        "weather_types"
      ],
      "metadata": {
        "execution": {
          "iopub.status.busy": "2024-10-10T14:27:06.774309Z",
          "iopub.execute_input": "2024-10-10T14:27:06.774694Z",
          "iopub.status.idle": "2024-10-10T14:27:06.784715Z",
          "shell.execute_reply.started": "2024-10-10T14:27:06.774652Z",
          "shell.execute_reply": "2024-10-10T14:27:06.783417Z"
        },
        "trusted": true,
        "id": "RrPefRij2H2W",
        "outputId": "f3dde35a-a4fe-4193-9622-8180a2c1a38e"
      },
      "execution_count": null,
      "outputs": [
        {
          "execution_count": 25,
          "output_type": "execute_result",
          "data": {
            "text/plain": "array([4, 4, 4, ..., 3, 3, 3])"
          },
          "metadata": {}
        }
      ]
    },
    {
      "cell_type": "code",
      "source": [
        "weather_type_codes, unique_weather_types = pd.factorize(weather_types)\n",
        "weather_type_codes , unique_weather_types"
      ],
      "metadata": {
        "execution": {
          "iopub.status.busy": "2024-10-10T14:27:06.786272Z",
          "iopub.execute_input": "2024-10-10T14:27:06.786692Z",
          "iopub.status.idle": "2024-10-10T14:27:06.798492Z",
          "shell.execute_reply.started": "2024-10-10T14:27:06.786649Z",
          "shell.execute_reply": "2024-10-10T14:27:06.797132Z"
        },
        "trusted": true,
        "id": "w-9iZhod2H2X",
        "outputId": "4df4688f-9280-47f8-aa44-bb2e7da64c30"
      },
      "execution_count": null,
      "outputs": [
        {
          "execution_count": 26,
          "output_type": "execute_result",
          "data": {
            "text/plain": "(array([0, 0, 0, ..., 2, 2, 2]), array([4, 5, 3, 2, 1]))"
          },
          "metadata": {}
        }
      ]
    },
    {
      "cell_type": "code",
      "source": [
        "n_states = len(unique_weather_types)\n",
        "n_states\n"
      ],
      "metadata": {
        "execution": {
          "iopub.status.busy": "2024-10-10T14:27:06.801689Z",
          "iopub.execute_input": "2024-10-10T14:27:06.802596Z",
          "iopub.status.idle": "2024-10-10T14:27:06.811429Z",
          "shell.execute_reply.started": "2024-10-10T14:27:06.802539Z",
          "shell.execute_reply": "2024-10-10T14:27:06.810312Z"
        },
        "trusted": true,
        "id": "q3dmeiMP2H2X",
        "outputId": "fdec2b56-b162-4e96-96ba-16ab12de8e82"
      },
      "execution_count": null,
      "outputs": [
        {
          "execution_count": 27,
          "output_type": "execute_result",
          "data": {
            "text/plain": "5"
          },
          "metadata": {}
        }
      ]
    },
    {
      "cell_type": "code",
      "source": [
        "pi = np.random.rand(n_states)\n",
        "pi/=pi.sum()\n",
        "pi"
      ],
      "metadata": {
        "execution": {
          "iopub.status.busy": "2024-10-10T14:27:06.812928Z",
          "iopub.execute_input": "2024-10-10T14:27:06.813443Z",
          "iopub.status.idle": "2024-10-10T14:27:06.826317Z",
          "shell.execute_reply.started": "2024-10-10T14:27:06.813384Z",
          "shell.execute_reply": "2024-10-10T14:27:06.825042Z"
        },
        "trusted": true,
        "id": "a6eZ36fw2H2Y",
        "outputId": "05cf01fb-f9f2-40e0-804a-1455c3ecd2ee"
      },
      "execution_count": null,
      "outputs": [
        {
          "execution_count": 28,
          "output_type": "execute_result",
          "data": {
            "text/plain": "array([0.12296703, 0.28373925, 0.19790096, 0.13023339, 0.26515938])"
          },
          "metadata": {}
        }
      ]
    },
    {
      "cell_type": "code",
      "source": [
        "import numpy as np\n",
        "\n",
        "\n",
        "weather_type_codes = [0, 1, 2, 0, 1, 1, 2, 0]  # Example data\n",
        "n_states = 5  # Number of weather types\n",
        "\n",
        "# Initialize the transition matrix A with zeros\n",
        "A = np.zeros((n_states, n_states))\n",
        "\n",
        "# Count transitions from one weather type to the next\n",
        "for i in range(len(weather_type_codes) - 1):\n",
        "    current_state = weather_type_codes[i]\n",
        "    next_state = weather_type_codes[i + 1]\n",
        "    A[current_state, next_state] += 1\n",
        "\n",
        "# Compute the sum of each row\n",
        "row_sums = A.sum(axis=1, keepdims=True)\n",
        "\n",
        "# Normalize the transition matrix A\n",
        "# Assign uniform probability for rows with zero sums\n",
        "A = np.where(row_sums != 0, A / row_sums, 1.0 / n_states)\n",
        "\n",
        "print(\"Transition Matrix A:\")\n",
        "print(A)\n",
        "\n"
      ],
      "metadata": {
        "execution": {
          "iopub.status.busy": "2024-10-10T14:30:58.751945Z",
          "iopub.execute_input": "2024-10-10T14:30:58.753138Z",
          "iopub.status.idle": "2024-10-10T14:30:58.765125Z",
          "shell.execute_reply.started": "2024-10-10T14:30:58.753056Z",
          "shell.execute_reply": "2024-10-10T14:30:58.763739Z"
        },
        "trusted": true,
        "id": "ZlcboAId2H2Y",
        "outputId": "696698f9-5e12-468f-d77b-40ee968bcc23"
      },
      "execution_count": null,
      "outputs": [
        {
          "name": "stdout",
          "text": "Transition Matrix A:\n[[0.         1.         0.         0.         0.        ]\n [0.         0.33333333 0.66666667 0.         0.        ]\n [1.         0.         0.         0.         0.        ]\n [0.2        0.2        0.2        0.2        0.2       ]\n [0.2        0.2        0.2        0.2        0.2       ]]\n",
          "output_type": "stream"
        },
        {
          "name": "stderr",
          "text": "/tmp/ipykernel_30/2222844460.py:22: RuntimeWarning: invalid value encountered in divide\n  A = np.where(row_sums != 0, A / row_sums, 1.0 / n_states)\n",
          "output_type": "stream"
        }
      ]
    },
    {
      "cell_type": "code",
      "source": [
        "B = np.eye(n_states)\n",
        "\n",
        "print(\"Emission Matrix B:\")\n",
        "print(B)"
      ],
      "metadata": {
        "execution": {
          "iopub.status.busy": "2024-10-10T14:27:07.168404Z",
          "iopub.execute_input": "2024-10-10T14:27:07.168878Z",
          "iopub.status.idle": "2024-10-10T14:27:07.176873Z",
          "shell.execute_reply.started": "2024-10-10T14:27:07.168821Z",
          "shell.execute_reply": "2024-10-10T14:27:07.175434Z"
        },
        "trusted": true,
        "id": "djgIF4642H2Z",
        "outputId": "a1f2ff4c-84f2-4119-f32b-1600834e6d4c"
      },
      "execution_count": null,
      "outputs": [
        {
          "name": "stdout",
          "text": "Emission Matrix B:\n[[1. 0. 0. 0. 0.]\n [0. 1. 0. 0. 0.]\n [0. 0. 1. 0. 0.]\n [0. 0. 0. 1. 0.]\n [0. 0. 0. 0. 1.]]\n",
          "output_type": "stream"
        }
      ]
    },
    {
      "cell_type": "code",
      "source": [
        "import numpy as np\n",
        "\n",
        "def viterbi(observations, A, B, pi):\n",
        "\n",
        "    n_states = A.shape[0]  # Number of hidden states\n",
        "    T = len(observations)   # Length of observation sequence\n",
        "\n",
        "    V = np.zeros((T, n_states))  # Viterbi table (log probabilities)\n",
        "    path = np.zeros((T, n_states), dtype=int)  # Path table to store best states\n",
        "\n",
        "    # Initialize the first column of Viterbi table (log initial probabilities and emissions)\n",
        "    V[0, :] = np.log(pi) + np.log(B[:, observations[0]])\n",
        "\n",
        "    for t in range(1, T):\n",
        "        for s in range(n_states):\n",
        "            # Calculate the transition probabilities from previous states\n",
        "            transition_probs = V[t - 1] + np.log(A[:, s])\n",
        "            best_prev_state = np.argmax(transition_probs)  # Find the best previous state\n",
        "            V[t, s] = transition_probs[best_prev_state] + np.log(B[s, observations[t]])  # Update Viterbi table\n",
        "            path[t, s] = best_prev_state  # Store the best previous state\n",
        "\n",
        "    best_last_state = np.argmax(V[T - 1])\n",
        "    best_path = [best_last_state]  # Initialize the best path\n",
        "\n",
        "    for t in range(T - 1, 0, -1):\n",
        "        best_last_state = path[t, best_last_state]\n",
        "        best_path.insert(0, best_last_state)  # Insert it at the start of the path\n",
        "\n",
        "    return best_path\n",
        "\n",
        "\n",
        "\n",
        "\n",
        "# Run the Viterbi algorithm\n",
        "best_hidden_states = viterbi(weather_type_codes, A, B, pi)\n",
        "print(\"Most Likely Hidden State Sequence:\", best_hidden_states)\n",
        "\n"
      ],
      "metadata": {
        "execution": {
          "iopub.status.busy": "2024-10-10T14:31:16.99212Z",
          "iopub.execute_input": "2024-10-10T14:31:16.992705Z",
          "iopub.status.idle": "2024-10-10T14:31:17.019688Z",
          "shell.execute_reply.started": "2024-10-10T14:31:16.992633Z",
          "shell.execute_reply": "2024-10-10T14:31:17.018094Z"
        },
        "trusted": true,
        "id": "yT9S65ou2H2Z",
        "outputId": "aa536871-a937-4cfe-c7a8-3bacd2f19466"
      },
      "execution_count": null,
      "outputs": [
        {
          "name": "stdout",
          "text": "Most Likely Hidden State Sequence: [0, 1, 2, 0, 1, 1, 2, 0]\n",
          "output_type": "stream"
        },
        {
          "name": "stderr",
          "text": "/tmp/ipykernel_30/3190160551.py:13: RuntimeWarning: divide by zero encountered in log\n  V[0, :] = np.log(pi) + np.log(B[:, observations[0]])\n/tmp/ipykernel_30/3190160551.py:19: RuntimeWarning: divide by zero encountered in log\n  transition_probs = V[t - 1] + np.log(A[:, s])  # V[t-1] + log(A)\n/tmp/ipykernel_30/3190160551.py:21: RuntimeWarning: divide by zero encountered in log\n  V[t, s] = transition_probs[best_prev_state] + np.log(B[s, observations[t]])  # Update Viterbi table\n",
          "output_type": "stream"
        }
      ]
    },
    {
      "cell_type": "code",
      "source": [
        " import numpy as np\n",
        "\n",
        "def forward_backward(observations, A, B, pi):\n",
        "\n",
        "    T = len(observations)  # Length of the observation sequence\n",
        "    n_states = A.shape[0]  # Number of hidden states\n",
        "\n",
        "    # Forward pass\n",
        "    alpha = np.zeros((T, n_states))  # Initialize the forward probabilities\n",
        "    alpha[0, :] = pi * B[:, observations[0]]  # Initialize first column\n",
        "\n",
        "    # Calculate forward probabilities\n",
        "    for t in range(1, T):\n",
        "        for s in range(n_states):\n",
        "            # Calculate alpha for state s at time t\n",
        "            alpha[t, s] = B[s, observations[t]] * np.sum(alpha[t - 1, :] * A[:, s])\n",
        "\n",
        "    # Backward pass\n",
        "    beta = np.zeros((T, n_states))  # Initialize the backward probabilities\n",
        "    beta[T - 1, :] = 1  # Initialize the last column\n",
        "\n",
        "    # Calculate backward probabilities\n",
        "    for t in range(T - 2, -1, -1):\n",
        "        for s in range(n_states):\n",
        "            # Calculate beta for state s at time t\n",
        "            beta[t, s] = np.sum(beta[t + 1, :] * A[s, :] * B[:, observations[t + 1]])\n",
        "\n",
        "\n",
        "    gamma = (alpha * beta) / np.sum(alpha * beta, axis=1, keepdims=True)\n",
        "\n",
        "    return gamma\n",
        "\n",
        "\n",
        "# Run the Forward-Backward algorithm\n",
        "gamma = forward_backward(weather_type_codes, A, B, pi)\n",
        "print(\"Posterior Probabilities (gamma):\", gamma)\n"
      ],
      "metadata": {
        "execution": {
          "iopub.status.busy": "2024-10-10T14:32:21.204205Z",
          "iopub.execute_input": "2024-10-10T14:32:21.204733Z",
          "iopub.status.idle": "2024-10-10T14:32:21.220128Z",
          "shell.execute_reply.started": "2024-10-10T14:32:21.204686Z",
          "shell.execute_reply": "2024-10-10T14:32:21.217864Z"
        },
        "trusted": true,
        "id": "gYqI63n02H2a",
        "outputId": "3090ce90-cdde-402f-9fc1-e4a5814a2918"
      },
      "execution_count": null,
      "outputs": [
        {
          "name": "stdout",
          "text": "Posterior Probabilities (gamma): [[1. 0. 0. 0. 0.]\n [0. 1. 0. 0. 0.]\n [0. 0. 1. 0. 0.]\n [1. 0. 0. 0. 0.]\n [0. 1. 0. 0. 0.]\n [0. 1. 0. 0. 0.]\n [0. 0. 1. 0. 0.]\n [1. 0. 0. 0. 0.]]\n",
          "output_type": "stream"
        }
      ]
    },
    {
      "cell_type": "code",
      "source": [
        "import numpy as np\n",
        "\n",
        "def sample_hmm(A, B, pi, n_steps):\n",
        "\n",
        "    n_states = A.shape[0]  # Number of hidden states\n",
        "    states = []  # List to store sampled states\n",
        "    observations = []  # List to store sampled observations\n",
        "\n",
        "    # Sample initial state\n",
        "    state = np.random.choice(n_states, p=pi)\n",
        "\n",
        "    for _ in range(n_steps):\n",
        "        states.append(state)  # Append the current state\n",
        "\n",
        "        # Sample observation based on the current state\n",
        "        observation = np.random.choice(len(B[0]), p=B[state, :])\n",
        "        observations.append(observation)  # Append the observation\n",
        "\n",
        "        # Sample next state\n",
        "        state = np.random.choice(n_states, p=A[state, :])\n",
        "\n",
        "    return states, observations\n",
        "\n",
        "\n",
        "sampled_states, sampled_observations = sample_hmm(A, B, pi, 10)\n",
        "print(\"Sampled Hidden States:\", sampled_states)\n",
        "print(\"Sampled Observations (Weather Types):\", [weather_types[i] for i in sampled_observations])\n"
      ],
      "metadata": {
        "execution": {
          "iopub.status.busy": "2024-10-10T14:31:30.580336Z",
          "iopub.execute_input": "2024-10-10T14:31:30.580777Z",
          "iopub.status.idle": "2024-10-10T14:31:30.595776Z",
          "shell.execute_reply.started": "2024-10-10T14:31:30.580735Z",
          "shell.execute_reply": "2024-10-10T14:31:30.594363Z"
        },
        "trusted": true,
        "id": "22psA-WQ2H2a",
        "outputId": "00cc185c-c527-404a-97bd-fac94a14a132"
      },
      "execution_count": null,
      "outputs": [
        {
          "name": "stdout",
          "text": "Sampled Hidden States: [1, 2, 0, 1, 1, 2, 0, 1, 2, 0]\nSampled Observations (Weather Types): [4, 4, 4, 4, 4, 4, 4, 4, 4, 4]\n",
          "output_type": "stream"
        }
      ]
    }
  ]
}